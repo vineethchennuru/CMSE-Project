{
 "cells": [
  {
   "cell_type": "code",
   "execution_count": 35,
   "id": "e02fd8a4",
   "metadata": {},
   "outputs": [],
   "source": [
    "import random\n",
    "import pandas as pd\n",
    "import numpy as np\n",
    "\n",
    "import plotly\n",
    "import plotly.graph_objects as go\n",
    "import plotly.express as px\n",
    "\n",
    "from sklearn.model_selection import train_test_split\n",
    "from sklearn.preprocessing import LabelEncoder, StandardScaler, MinMaxScaler, RobustScaler\n",
    "from sklearn.metrics import (f1_score, roc_auc_score,accuracy_score,confusion_matrix,\n",
    "                             precision_recall_curve, auc, roc_curve, recall_score,classification_report)\n",
    "\n",
    "from plot_func import plot_classification_report,plot_roc,plot_confusion_matrix\n",
    "\n",
    "import plotly.express as px\n",
    "\n",
    "import pickle"
   ]
  },
  {
   "cell_type": "code",
   "execution_count": 14,
   "id": "b71eab6a",
   "metadata": {},
   "outputs": [],
   "source": [
    "# Reading data\n",
    "original_data = pd.read_csv('../Health_Insurance_Cross_Sell_Prediction.csv')\n",
    "original_data = original_data[0:int(len(original_data)/20)]"
   ]
  },
  {
   "cell_type": "code",
   "execution_count": 15,
   "id": "a66abda1",
   "metadata": {},
   "outputs": [
    {
     "data": {
      "text/html": [
       "<div>\n",
       "<style scoped>\n",
       "    .dataframe tbody tr th:only-of-type {\n",
       "        vertical-align: middle;\n",
       "    }\n",
       "\n",
       "    .dataframe tbody tr th {\n",
       "        vertical-align: top;\n",
       "    }\n",
       "\n",
       "    .dataframe thead th {\n",
       "        text-align: right;\n",
       "    }\n",
       "</style>\n",
       "<table border=\"1\" class=\"dataframe\">\n",
       "  <thead>\n",
       "    <tr style=\"text-align: right;\">\n",
       "      <th></th>\n",
       "      <th>id</th>\n",
       "      <th>Gender</th>\n",
       "      <th>Age</th>\n",
       "      <th>Driving_License</th>\n",
       "      <th>Region_Code</th>\n",
       "      <th>Previously_Insured</th>\n",
       "      <th>Vehicle_Age</th>\n",
       "      <th>Vehicle_Damage</th>\n",
       "      <th>Annual_Premium</th>\n",
       "      <th>Policy_Sales_Channel</th>\n",
       "      <th>Vintage</th>\n",
       "      <th>Response</th>\n",
       "    </tr>\n",
       "  </thead>\n",
       "  <tbody>\n",
       "    <tr>\n",
       "      <th>0</th>\n",
       "      <td>1</td>\n",
       "      <td>Male</td>\n",
       "      <td>44</td>\n",
       "      <td>1</td>\n",
       "      <td>28.0</td>\n",
       "      <td>0</td>\n",
       "      <td>&gt; 2 Years</td>\n",
       "      <td>Yes</td>\n",
       "      <td>40454.0</td>\n",
       "      <td>26.0</td>\n",
       "      <td>217</td>\n",
       "      <td>1</td>\n",
       "    </tr>\n",
       "    <tr>\n",
       "      <th>1</th>\n",
       "      <td>2</td>\n",
       "      <td>Male</td>\n",
       "      <td>76</td>\n",
       "      <td>1</td>\n",
       "      <td>3.0</td>\n",
       "      <td>0</td>\n",
       "      <td>1-2 Year</td>\n",
       "      <td>No</td>\n",
       "      <td>33536.0</td>\n",
       "      <td>26.0</td>\n",
       "      <td>183</td>\n",
       "      <td>0</td>\n",
       "    </tr>\n",
       "    <tr>\n",
       "      <th>2</th>\n",
       "      <td>3</td>\n",
       "      <td>Male</td>\n",
       "      <td>47</td>\n",
       "      <td>1</td>\n",
       "      <td>28.0</td>\n",
       "      <td>0</td>\n",
       "      <td>&gt; 2 Years</td>\n",
       "      <td>Yes</td>\n",
       "      <td>38294.0</td>\n",
       "      <td>26.0</td>\n",
       "      <td>27</td>\n",
       "      <td>1</td>\n",
       "    </tr>\n",
       "    <tr>\n",
       "      <th>3</th>\n",
       "      <td>4</td>\n",
       "      <td>Male</td>\n",
       "      <td>21</td>\n",
       "      <td>1</td>\n",
       "      <td>11.0</td>\n",
       "      <td>1</td>\n",
       "      <td>&lt; 1 Year</td>\n",
       "      <td>No</td>\n",
       "      <td>28619.0</td>\n",
       "      <td>152.0</td>\n",
       "      <td>203</td>\n",
       "      <td>0</td>\n",
       "    </tr>\n",
       "    <tr>\n",
       "      <th>4</th>\n",
       "      <td>5</td>\n",
       "      <td>Female</td>\n",
       "      <td>29</td>\n",
       "      <td>1</td>\n",
       "      <td>41.0</td>\n",
       "      <td>1</td>\n",
       "      <td>&lt; 1 Year</td>\n",
       "      <td>No</td>\n",
       "      <td>27496.0</td>\n",
       "      <td>152.0</td>\n",
       "      <td>39</td>\n",
       "      <td>0</td>\n",
       "    </tr>\n",
       "  </tbody>\n",
       "</table>\n",
       "</div>"
      ],
      "text/plain": [
       "   id  Gender  Age  Driving_License  Region_Code  Previously_Insured  \\\n",
       "0   1    Male   44                1         28.0                   0   \n",
       "1   2    Male   76                1          3.0                   0   \n",
       "2   3    Male   47                1         28.0                   0   \n",
       "3   4    Male   21                1         11.0                   1   \n",
       "4   5  Female   29                1         41.0                   1   \n",
       "\n",
       "  Vehicle_Age Vehicle_Damage  Annual_Premium  Policy_Sales_Channel  Vintage  \\\n",
       "0   > 2 Years            Yes         40454.0                  26.0      217   \n",
       "1    1-2 Year             No         33536.0                  26.0      183   \n",
       "2   > 2 Years            Yes         38294.0                  26.0       27   \n",
       "3    < 1 Year             No         28619.0                 152.0      203   \n",
       "4    < 1 Year             No         27496.0                 152.0       39   \n",
       "\n",
       "   Response  \n",
       "0         1  \n",
       "1         0  \n",
       "2         1  \n",
       "3         0  \n",
       "4         0  "
      ]
     },
     "execution_count": 15,
     "metadata": {},
     "output_type": "execute_result"
    }
   ],
   "source": [
    "original_data.head()"
   ]
  },
  {
   "cell_type": "code",
   "execution_count": 16,
   "id": "a9df1bdc",
   "metadata": {},
   "outputs": [],
   "source": [
    "columns = original_data.columns"
   ]
  },
  {
   "cell_type": "code",
   "execution_count": 17,
   "id": "de8c7200",
   "metadata": {},
   "outputs": [
    {
     "data": {
      "text/plain": [
       "Index(['id', 'Gender', 'Age', 'Driving_License', 'Region_Code',\n",
       "       'Previously_Insured', 'Vehicle_Age', 'Vehicle_Damage', 'Annual_Premium',\n",
       "       'Policy_Sales_Channel', 'Vintage', 'Response'],\n",
       "      dtype='object')"
      ]
     },
     "execution_count": 17,
     "metadata": {},
     "output_type": "execute_result"
    }
   ],
   "source": [
    "columns"
   ]
  },
  {
   "cell_type": "code",
   "execution_count": 18,
   "id": "3058ddef",
   "metadata": {},
   "outputs": [],
   "source": [
    "train,test = train_test_split(original_data,test_size=0.25,random_state=0)"
   ]
  },
  {
   "cell_type": "markdown",
   "id": "66526ede",
   "metadata": {},
   "source": [
    "### Data Preprocessing\n",
    "\n"
   ]
  },
  {
   "cell_type": "code",
   "execution_count": 19,
   "id": "5a208704",
   "metadata": {},
   "outputs": [],
   "source": [
    "num_feat = ['Age','Vintage']\n",
    "cat_feat = ['Gender', 'Driving_License', 'Previously_Insured', 'Vehicle_Age_lt_1_Year','Vehicle_Age_gt_2_Years','Vehicle_Damage_Yes','Region_Code','Policy_Sales_Channel']"
   ]
  },
  {
   "cell_type": "code",
   "execution_count": 20,
   "id": "34337fbe",
   "metadata": {},
   "outputs": [],
   "source": [
    "train['Gender'] = train['Gender'].map( {'Female': 0, 'Male': 1} ).astype(int)\n",
    "train=pd.get_dummies(train,drop_first=True)\n",
    "train=train.rename(columns={\"Vehicle_Age_< 1 Year\": \"Vehicle_Age_lt_1_Year\", \"Vehicle_Age_> 2 Years\": \"Vehicle_Age_gt_2_Years\"})\n",
    "train['Vehicle_Age_lt_1_Year']=train['Vehicle_Age_lt_1_Year'].astype('int')\n",
    "train['Vehicle_Age_gt_2_Years']=train['Vehicle_Age_gt_2_Years'].astype('int')\n",
    "train['Vehicle_Damage_Yes']=train['Vehicle_Damage_Yes'].astype('int')\n",
    "\n",
    "\n",
    "ss = StandardScaler()\n",
    "train[num_feat] = ss.fit_transform(train[num_feat])\n",
    "\n",
    "mm = MinMaxScaler()\n",
    "train[['Annual_Premium']] = mm.fit_transform(train[['Annual_Premium']])\n",
    "\n",
    "train=train.drop('id',axis=1)\n",
    "\n",
    "for column in cat_feat:\n",
    "    train[column] = train[column].astype('str')"
   ]
  },
  {
   "cell_type": "code",
   "execution_count": null,
   "id": "32c83118",
   "metadata": {},
   "outputs": [],
   "source": []
  },
  {
   "cell_type": "code",
   "execution_count": 21,
   "id": "e1bca306",
   "metadata": {},
   "outputs": [],
   "source": [
    "test['Gender'] = test['Gender'].map( {'Female': 0, 'Male': 1} ).astype(int)\n",
    "test=pd.get_dummies(test,drop_first=True)\n",
    "test=test.rename(columns={\"Vehicle_Age_< 1 Year\": \"Vehicle_Age_lt_1_Year\", \"Vehicle_Age_> 2 Years\": \"Vehicle_Age_gt_2_Years\"})\n",
    "test['Vehicle_Age_lt_1_Year']=test['Vehicle_Age_lt_1_Year'].astype('int')\n",
    "test['Vehicle_Age_gt_2_Years']=test['Vehicle_Age_gt_2_Years'].astype('int')\n",
    "test['Vehicle_Damage_Yes']=test['Vehicle_Damage_Yes'].astype('int')\n",
    "from sklearn.preprocessing import LabelEncoder, StandardScaler, MinMaxScaler, RobustScaler\n",
    "ss = StandardScaler()\n",
    "test[num_feat] = ss.fit_transform(test[num_feat])\n",
    "\n",
    "\n",
    "mm = MinMaxScaler()\n",
    "test[['Annual_Premium']] = mm.fit_transform(test[['Annual_Premium']])\n",
    "for column in cat_feat:\n",
    "    test[column] = test[column].astype('str')\n"
   ]
  },
  {
   "cell_type": "code",
   "execution_count": null,
   "id": "affe47ff",
   "metadata": {},
   "outputs": [],
   "source": []
  },
  {
   "cell_type": "code",
   "execution_count": 22,
   "id": "80d8515b",
   "metadata": {},
   "outputs": [],
   "source": [
    "from sklearn.model_selection import train_test_split\n",
    "\n",
    "train_target=train['Response']\n",
    "train=train.drop(['Response'], axis = 1)\n",
    "x_train,x_test,y_train,y_test = train_test_split(train,train_target, random_state = 0)\n"
   ]
  },
  {
   "cell_type": "code",
   "execution_count": null,
   "id": "b79f47e7",
   "metadata": {},
   "outputs": [],
   "source": []
  },
  {
   "cell_type": "markdown",
   "id": "466446d2",
   "metadata": {},
   "source": [
    "### Using saved models"
   ]
  },
  {
   "cell_type": "code",
   "execution_count": 23,
   "id": "271a80f4",
   "metadata": {},
   "outputs": [],
   "source": [
    "model = pickle.load(open('models/AdaBoost_model.sav', 'rb'))"
   ]
  },
  {
   "cell_type": "code",
   "execution_count": null,
   "id": "96cec3c1",
   "metadata": {},
   "outputs": [],
   "source": []
  },
  {
   "cell_type": "code",
   "execution_count": 46,
   "id": "1d573649",
   "metadata": {},
   "outputs": [],
   "source": [
    "model_names = [\n",
    "    \"Nearest Neighbors\",\"SVC\",\"Decision Tree\",\"Random Forest\",\"Neural Net\",\"AdaBoost\",\"Naive Bayes\",\"QDA\"\n",
    "]\n"
   ]
  },
  {
   "cell_type": "code",
   "execution_count": 28,
   "id": "ccd9eb2a",
   "metadata": {},
   "outputs": [],
   "source": [
    "pickle_file_map = {\n",
    "    \"Nearest Neighbors\":'models/'+\"Nearest Neighbors\"+'_model.sav',\n",
    "    \"SVC\":'models/'+\"SVC\"+'_model.sav',\n",
    "    \"Decision Tree\":'models/'+\"Decision Tree\"+'_model.sav',\n",
    "    \"Random Forest\":'models/'+\"Random Forest\"+'_model.sav',\n",
    "    \"Neural Net\":'models/'+\"Neural Net\"+'_model.sav',\n",
    "    \"AdaBoost\":'models/'+\"AdaBoost\"+'_model.sav',\n",
    "    \"Naive Bayes\":'models/'+\"Naive Bayes\"+'_model.sav',\n",
    "    \"QDA\":'models/'+\"QDA\"+'_model.sav'\n",
    "}"
   ]
  },
  {
   "cell_type": "code",
   "execution_count": 31,
   "id": "3871de6e",
   "metadata": {},
   "outputs": [
    {
     "name": "stdout",
     "output_type": "stream",
     "text": [
      "RandomizedSearchCV(cv=4, estimator=KNeighborsClassifier(), n_jobs=-1,\n",
      "                   param_distributions={'algorithm': ['auto', 'ball_tree',\n",
      "                                                      'kd_tree', 'brute'],\n",
      "                                        'leaf_size': [20, 30, 40],\n",
      "                                        'metric': ['minkowski'], 'n_jobs': [-1],\n",
      "                                        'n_neighbors': [4, 5, 6, 7, 8],\n",
      "                                        'p': [2, 3],\n",
      "                                        'weights': ['uniform', 'distance']},\n",
      "                   random_state=101, verbose=1)\n",
      "RandomizedSearchCV(cv=4, estimator=SVC(), n_jobs=-1,\n",
      "                   param_distributions={'C': [1.0, 2.0], 'degree': [2, 3, 4],\n",
      "                                        'gamma': ['scale'],\n",
      "                                        'kernel': ['poly', 'rbf'],\n",
      "                                        'probability': [True]},\n",
      "                   random_state=101, verbose=1)\n",
      "RandomizedSearchCV(cv=4, estimator=DecisionTreeClassifier(), n_jobs=-1,\n",
      "                   param_distributions={'criterion': ['gini', 'entropy',\n",
      "                                                      'log_loss'],\n",
      "                                        'max_depth': [5, 6, 7],\n",
      "                                        'splitter': ['best', 'random']},\n",
      "                   random_state=101, verbose=1)\n",
      "RandomizedSearchCV(cv=4, estimator=RandomForestClassifier(), n_jobs=-1,\n",
      "                   param_distributions={'criterion': ['entropy', 'gini'],\n",
      "                                        'max_depth': [2, 3, 4, 5, 6, 7, 10],\n",
      "                                        'min_samples_leaf': [4, 6, 8],\n",
      "                                        'min_samples_split': [5, 7, 10],\n",
      "                                        'n_estimators': [300]},\n",
      "                   random_state=101, verbose=1)\n",
      "RandomizedSearchCV(cv=4, estimator=MLPClassifier(), n_jobs=-1,\n",
      "                   param_distributions={'activation': ['logistic', 'tanh',\n",
      "                                                       'relu'],\n",
      "                                        'alpha': [0.0001, 0.001],\n",
      "                                        'hidden_layer_sizes': [(100,), (200,)],\n",
      "                                        'solver': ['sgd', 'adam']},\n",
      "                   random_state=101, verbose=1)\n",
      "RandomizedSearchCV(cv=4, estimator=AdaBoostClassifier(), n_jobs=-1,\n",
      "                   param_distributions={'algorithm': ['SAMME', 'SAMME.R'],\n",
      "                                        'learning_rate': [1.0, 2.0],\n",
      "                                        'n_estimators': [50, 100]},\n",
      "                   random_state=101, verbose=1)\n",
      "RandomizedSearchCV(cv=4, estimator=GaussianNB(), n_jobs=-1,\n",
      "                   param_distributions={'var_smoothing': [1e-09, 1e-10]},\n",
      "                   random_state=101, verbose=1)\n",
      "RandomizedSearchCV(cv=4, estimator=QuadraticDiscriminantAnalysis(), n_jobs=-1,\n",
      "                   param_distributions={'reg_param': [0.0, 0.0001, 0.1]},\n",
      "                   random_state=101, verbose=1)\n"
     ]
    }
   ],
   "source": [
    "for key in pickle_file_map.keys():\n",
    "    print(pickle.load(open(pickle_file_map[key], 'rb')))"
   ]
  },
  {
   "cell_type": "code",
   "execution_count": null,
   "id": "90311ae6",
   "metadata": {},
   "outputs": [],
   "source": []
  },
  {
   "cell_type": "code",
   "execution_count": 34,
   "id": "7c651915",
   "metadata": {},
   "outputs": [
    {
     "data": {
      "text/html": [
       "<div>\n",
       "<style scoped>\n",
       "    .dataframe tbody tr th:only-of-type {\n",
       "        vertical-align: middle;\n",
       "    }\n",
       "\n",
       "    .dataframe tbody tr th {\n",
       "        vertical-align: top;\n",
       "    }\n",
       "\n",
       "    .dataframe thead th {\n",
       "        text-align: right;\n",
       "    }\n",
       "</style>\n",
       "<table border=\"1\" class=\"dataframe\">\n",
       "  <thead>\n",
       "    <tr style=\"text-align: right;\">\n",
       "      <th></th>\n",
       "      <th>0</th>\n",
       "    </tr>\n",
       "  </thead>\n",
       "  <tbody>\n",
       "    <tr>\n",
       "      <th>Nearest Neighbors</th>\n",
       "      <td>models/Nearest Neighbors_model.sav</td>\n",
       "    </tr>\n",
       "    <tr>\n",
       "      <th>SVC</th>\n",
       "      <td>models/SVC_model.sav</td>\n",
       "    </tr>\n",
       "    <tr>\n",
       "      <th>Decision Tree</th>\n",
       "      <td>models/Decision Tree_model.sav</td>\n",
       "    </tr>\n",
       "    <tr>\n",
       "      <th>Random Forest</th>\n",
       "      <td>models/Random Forest_model.sav</td>\n",
       "    </tr>\n",
       "    <tr>\n",
       "      <th>Neural Net</th>\n",
       "      <td>models/Neural Net_model.sav</td>\n",
       "    </tr>\n",
       "    <tr>\n",
       "      <th>AdaBoost</th>\n",
       "      <td>models/AdaBoost_model.sav</td>\n",
       "    </tr>\n",
       "    <tr>\n",
       "      <th>Naive Bayes</th>\n",
       "      <td>models/Naive Bayes_model.sav</td>\n",
       "    </tr>\n",
       "    <tr>\n",
       "      <th>QDA</th>\n",
       "      <td>models/QDA_model.sav</td>\n",
       "    </tr>\n",
       "  </tbody>\n",
       "</table>\n",
       "</div>"
      ],
      "text/plain": [
       "                                                    0\n",
       "Nearest Neighbors  models/Nearest Neighbors_model.sav\n",
       "SVC                              models/SVC_model.sav\n",
       "Decision Tree          models/Decision Tree_model.sav\n",
       "Random Forest          models/Random Forest_model.sav\n",
       "Neural Net                models/Neural Net_model.sav\n",
       "AdaBoost                    models/AdaBoost_model.sav\n",
       "Naive Bayes              models/Naive Bayes_model.sav\n",
       "QDA                              models/QDA_model.sav"
      ]
     },
     "execution_count": 34,
     "metadata": {},
     "output_type": "execute_result"
    }
   ],
   "source": [
    "pd.DataFrame(pd.Series(pickle_file_map))"
   ]
  },
  {
   "cell_type": "code",
   "execution_count": null,
   "id": "843fb1db",
   "metadata": {},
   "outputs": [],
   "source": []
  },
  {
   "cell_type": "code",
   "execution_count": 42,
   "id": "e28ba19f",
   "metadata": {},
   "outputs": [],
   "source": [
    "def get_ClassificationReport_test(model_name):\n",
    "    model = pickle.load(open(pickle_file_map[model_name], 'rb'))\n",
    "    y_pred = model.predict(x_test)\n",
    "    return classification_report(y_test, y_pred,zero_division=0)"
   ]
  },
  {
   "cell_type": "code",
   "execution_count": 44,
   "id": "97874bf1",
   "metadata": {},
   "outputs": [
    {
     "name": "stdout",
     "output_type": "stream",
     "text": [
      "              precision    recall  f1-score   support\n",
      "\n",
      "           0       0.89      0.98      0.93      3127\n",
      "           1       0.52      0.14      0.22       446\n",
      "\n",
      "    accuracy                           0.88      3573\n",
      "   macro avg       0.70      0.56      0.57      3573\n",
      "weighted avg       0.84      0.88      0.84      3573\n",
      "\n"
     ]
    }
   ],
   "source": [
    "print(get_ClassificationReport_test('Nearest Neighbors'))"
   ]
  },
  {
   "cell_type": "code",
   "execution_count": 47,
   "id": "9aa71444",
   "metadata": {},
   "outputs": [
    {
     "data": {
      "text/html": [
       "<div>\n",
       "<style scoped>\n",
       "    .dataframe tbody tr th:only-of-type {\n",
       "        vertical-align: middle;\n",
       "    }\n",
       "\n",
       "    .dataframe tbody tr th {\n",
       "        vertical-align: top;\n",
       "    }\n",
       "\n",
       "    .dataframe thead th {\n",
       "        text-align: right;\n",
       "    }\n",
       "</style>\n",
       "<table border=\"1\" class=\"dataframe\">\n",
       "  <thead>\n",
       "    <tr style=\"text-align: right;\">\n",
       "      <th></th>\n",
       "      <th>0</th>\n",
       "    </tr>\n",
       "  </thead>\n",
       "  <tbody>\n",
       "    <tr>\n",
       "      <th>0</th>\n",
       "      <td>Nearest Neighbors</td>\n",
       "    </tr>\n",
       "    <tr>\n",
       "      <th>1</th>\n",
       "      <td>SVC</td>\n",
       "    </tr>\n",
       "    <tr>\n",
       "      <th>2</th>\n",
       "      <td>Decision Tree</td>\n",
       "    </tr>\n",
       "    <tr>\n",
       "      <th>3</th>\n",
       "      <td>Random Forest</td>\n",
       "    </tr>\n",
       "    <tr>\n",
       "      <th>4</th>\n",
       "      <td>Neural Net</td>\n",
       "    </tr>\n",
       "    <tr>\n",
       "      <th>5</th>\n",
       "      <td>AdaBoost</td>\n",
       "    </tr>\n",
       "    <tr>\n",
       "      <th>6</th>\n",
       "      <td>Naive Bayes</td>\n",
       "    </tr>\n",
       "    <tr>\n",
       "      <th>7</th>\n",
       "      <td>QDA</td>\n",
       "    </tr>\n",
       "  </tbody>\n",
       "</table>\n",
       "</div>"
      ],
      "text/plain": [
       "                   0\n",
       "0  Nearest Neighbors\n",
       "1                SVC\n",
       "2      Decision Tree\n",
       "3      Random Forest\n",
       "4         Neural Net\n",
       "5           AdaBoost\n",
       "6        Naive Bayes\n",
       "7                QDA"
      ]
     },
     "execution_count": 47,
     "metadata": {},
     "output_type": "execute_result"
    }
   ],
   "source": [
    "pd.DataFrame(model_names)"
   ]
  },
  {
   "cell_type": "code",
   "execution_count": 56,
   "id": "b4c6ea5a",
   "metadata": {},
   "outputs": [
    {
     "name": "stdout",
     "output_type": "stream",
     "text": [
      "              precision    recall  f1-score   support\n",
      "\n",
      "           0       0.90      0.90      0.90      3127\n",
      "           1       0.33      0.33      0.33       446\n",
      "\n",
      "    accuracy                           0.83      3573\n",
      "   macro avg       0.62      0.62      0.62      3573\n",
      "weighted avg       0.83      0.83      0.83      3573\n",
      "\n"
     ]
    }
   ],
   "source": [
    "print(get_ClassificationReport_test('QDA'))"
   ]
  },
  {
   "cell_type": "code",
   "execution_count": null,
   "id": "7dad0f57",
   "metadata": {},
   "outputs": [],
   "source": []
  }
 ],
 "metadata": {
  "kernelspec": {
   "display_name": "Python 3 (ipykernel)",
   "language": "python",
   "name": "python3"
  },
  "language_info": {
   "codemirror_mode": {
    "name": "ipython",
    "version": 3
   },
   "file_extension": ".py",
   "mimetype": "text/x-python",
   "name": "python",
   "nbconvert_exporter": "python",
   "pygments_lexer": "ipython3",
   "version": "3.9.12"
  }
 },
 "nbformat": 4,
 "nbformat_minor": 5
}
